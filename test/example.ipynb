{
 "cells": [
  {
   "cell_type": "code",
   "execution_count": 1,
   "source": [
    "figlet $SHELL"
   ],
   "outputs": [
    {
     "output_type": "stream",
     "name": "stdout",
     "text": [
      "    ___     _          __       _     \n",
      "   / / |__ (_)_ __    / /______| |__  \n",
      "  / /| '_ \\| | '_ \\  / /_  / __| '_ \\ \n",
      " / / | |_) | | | | |/ / / /\\__ \\ | | |\n",
      "/_/  |_.__/|_|_| |_/_/ /___|___/_| |_|\n",
      "                                      \n"
     ]
    }
   ],
   "metadata": {}
  },
  {
   "cell_type": "code",
   "execution_count": 2,
   "source": [
    "function hr { printf \"%-*s\\n\" $(tput cols) | tr ' ' '-' }"
   ],
   "outputs": [],
   "metadata": {}
  },
  {
   "cell_type": "code",
   "execution_count": 3,
   "source": [
    "git --no-pager log --oneline ...HEAD~3\n",
    "hr\n",
    "git status --short\n",
    "hr\n",
    "git ls-files | xargs exa"
   ],
   "outputs": [
    {
     "output_type": "stream",
     "name": "stdout",
     "text": [
      "\u001b[33m639b671\u001b[m\u001b[33m (\u001b[m\u001b[1;36mHEAD -> \u001b[m\u001b[1;32mmaster\u001b[m\u001b[33m)\u001b[m dev-pipenv-install.sh\n",
      "\u001b[33md4ed544\u001b[m update submodules url to new one\n",
      "\u001b[33md00629a\u001b[m - bug\n",
      "--------------------------------------------------------------------------------\n",
      " \u001b[31mM\u001b[m ../src/zsh_jupyter_kernel/kernel.py\n",
      " \u001b[31mM\u001b[m ../src/zsh_jupyter_kernel/kernel_test.py\n",
      " \u001b[31mM\u001b[m example.ipynb\n",
      "--------------------------------------------------------------------------------\n",
      "\u001b[1;32m.gitignore\u001b[0m  \u001b[1;32mexample.ipynb\u001b[0m\n"
     ]
    }
   ],
   "metadata": {}
  },
  {
   "cell_type": "code",
   "execution_count": 4,
   "source": [
    "echo 1"
   ],
   "outputs": [
    {
     "output_type": "stream",
     "name": "stdout",
     "text": [
      "1\n"
     ]
    }
   ],
   "metadata": {}
  }
 ],
 "metadata": {
  "kernelspec": {
   "display_name": "Z shell",
   "language": "zsh",
   "name": "zsh"
  },
  "language_info": {
   "codemirror_mode": "shell",
   "file_extension": ".zsh",
   "mimetype": "text/x-zsh",
   "name": "zsh",
   "pygments_lexer": "shell",
   "version": "5.7.1"
  }
 },
 "nbformat": 4,
 "nbformat_minor": 4
}