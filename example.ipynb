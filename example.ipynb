{
 "cells": [
  {
   "cell_type": "code",
   "execution_count": 1,
   "metadata": {},
   "outputs": [
    {
     "name": "stdout",
     "output_type": "stream",
     "text": [
      "    ___     _          __       _       ____  ___  \n",
      "   / / |__ (_)_ __    / /______| |__   | ___|/ _ \\ \n",
      "  / /| '_ \\| | '_ \\  / /_  / __| '_ \\  |___ \\ (_) |\n",
      " / / | |_) | | | | |/ / / /\\__ \\ | | |  ___) \\__, |\n",
      "/_/  |_.__/|_|_| |_/_/ /___|___/_| |_| |____(_)/_/ \n",
      "                                                   \n"
     ]
    }
   ],
   "source": [
    "figlet $SHELL $ZSH_VERSION"
   ]
  },
  {
   "cell_type": "code",
   "execution_count": 2,
   "metadata": {},
   "outputs": [
    {
     "name": "stdout",
     "output_type": "stream",
     "text": [
      "--------------------------------------------------------------------------------\n"
     ]
    }
   ],
   "source": [
    "function hr { printf \"%-*s\\n\" $(tput cols) | tr ' ' '-' }\n",
    "hr"
   ]
  },
  {
   "cell_type": "code",
   "execution_count": 5,
   "metadata": {},
   "outputs": [
    {
     "name": "stdout",
     "output_type": "stream",
     "text": [
      "\u001B[33m027d083\u001B[m\u001B[33m (\u001B[m\u001B[1;36mHEAD -> \u001B[m\u001B[1;32mmaster\u001B[m\u001B[33m, \u001B[m\u001B[1;31morigin/master\u001B[m\u001B[33m, \u001B[m\u001B[1;31morigin/HEAD\u001B[m\u001B[33m)\u001B[m fix typo\n",
      "\u001B[33mfe2f77e\u001B[m\u001B[33m (\u001B[m\u001B[1;33mtag: 3.5.0\u001B[m\u001B[33m)\u001B[m Merge remote-tracking branch 'origin/master'\n",
      "\u001B[33m7f8e920\u001B[m add --display-name installation option. improve docs\n",
      "\u001B[33m7b0b0a0\u001B[m + funding file\n",
      "--------------------------------------------------------------------------------\n",
      "\u001B[32mD\u001B[m  src/sandbox/.gitignore\n",
      "\u001B[31m??\u001B[m example.ipynb\n",
      "\u001B[31m??\u001B[m sandbox/\n",
      "--------------------------------------------------------------------------------\n",
      "\u001B[36msrc/zsh_jupyter_kernel/\u001B[0m__init__.py  \u001B[36msrc/zsh_jupyter_kernel/\u001B[0minstall.py\n",
      "\u001B[36msrc/zsh_jupyter_kernel/\u001B[0m__main__.py  \u001B[36msrc/zsh_jupyter_kernel/\u001B[0mkernel.py\n",
      "\u001B[36msrc/zsh_jupyter_kernel/\u001B[0mbanner.txt   \u001B[36msrc/zsh_jupyter_kernel/LICENSE.txt\u001B[0m\n",
      "\u001B[36msrc/zsh_jupyter_kernel/\u001B[1;32mcapture.zsh\u001B[0m  \u001B[36msrc/zsh_jupyter_kernel/README.md\u001B[0m\n",
      "\u001B[36msrc/zsh_jupyter_kernel/\u001B[0mconfig.py    \u001B[36msrc/zsh_jupyter_kernel/\u001B[0mreference.md\n",
      "\u001B[36msrc/zsh_jupyter_kernel/\u001B[0mfun.py       \u001B[36msrc/zsh_jupyter_kernel/\u001B[0mversion\n"
     ]
    }
   ],
   "source": [
    "git --no-pager log --oneline ...HEAD~3\n",
    "hr\n",
    "git status --short\n",
    "hr\n",
    "git ls-files src/zsh_jupyter_kernel | xargs exa"
   ]
  },
  {
   "cell_type": "code",
   "execution_count": 4,
   "metadata": {
    "tags": []
   },
   "outputs": [
    {
     "name": "stdout",
     "output_type": "stream",
     "text": [
      "Weather report: Chernivtsi\n",
      "\n",
      "  \u001B[38;5;226m    \\   /    \u001B[0m Sunny\n",
      "  \u001B[38;5;226m     .-.     \u001B[0m \u001B[38;5;214m+28\u001B[0m(\u001B[38;5;220m27\u001B[0m) °C\u001B[0m     \n",
      "  \u001B[38;5;226m  ― (   ) ―  \u001B[0m \u001B[1m↓\u001B[0m \u001B[38;5;226m14\u001B[0m km/h\u001B[0m      \n",
      "  \u001B[38;5;226m     `-’     \u001B[0m 10 km\u001B[0m          \n",
      "  \u001B[38;5;226m    /   \\    \u001B[0m 0.0 mm\u001B[0m         \n"
     ]
    }
   ],
   "source": [
    "curl -s wttr.in/Chernivtsi | head -7"
   ]
  },
  {
   "cell_type": "code",
   "execution_count": null,
   "metadata": {},
   "outputs": [],
   "source": []
  }
 ],
 "metadata": {
  "kernelspec": {
   "display_name": "Z shell",
   "language": "zsh",
   "name": "zsh"
  },
  "language_info": {
   "codemirror_mode": "shell",
   "file_extension": ".zsh",
   "mimetype": "text/x-zsh",
   "name": "zsh",
   "pygments_lexer": "shell",
   "version": "5.7.1"
  }
 },
 "nbformat": 4,
 "nbformat_minor": 4
}