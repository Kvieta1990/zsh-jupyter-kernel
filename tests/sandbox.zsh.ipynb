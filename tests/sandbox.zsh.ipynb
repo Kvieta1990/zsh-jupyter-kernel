{
 "cells": [
  {
   "cell_type": "code",
   "execution_count": 1,
   "id": "598ef7eb-8877-4586-a7f1-add8de665038",
   "metadata": {},
   "outputs": [
    {
     "name": "stdout",
     "output_type": "stream",
     "text": [
      "1\n",
      "2\n",
      "3\n"
     ]
    }
   ],
   "source": [
    "print 1\n",
    "echo 2\n",
    "<<< 3"
   ]
  },
  {
   "cell_type": "code",
   "execution_count": 2,
   "id": "eb3060f6-21aa-4947-94de-233fef1481ea",
   "metadata": {},
   "outputs": [
    {
     "name": "stdout",
     "output_type": "stream",
     "text": [
      "fun_test.py  msgspec_v5.py\t  zsh_kernel_tests.py\n",
      "__init__.py  pexpect_zsh_test.py\n"
     ]
    }
   ],
   "source": [
    "ls"
   ]
  },
  {
   "cell_type": "code",
   "execution_count": null,
   "id": "ba302c08-17ba-4863-a97d-3bc8236a4f83",
   "metadata": {},
   "outputs": [],
   "source": []
  },
  {
   "cell_type": "code",
   "execution_count": null,
   "id": "2d379c32-6785-4c4e-854b-98b94bc37426",
   "metadata": {},
   "outputs": [],
   "source": []
  }
 ],
 "metadata": {
  "kernelspec": {
   "display_name": "Z shell",
   "language": "zsh",
   "name": "zsh"
  },
  "language_info": {
   "codemirror_mode": "shell",
   "file_extension": ".zsh",
   "mimetype": "text/x-zsh",
   "name": "zsh",
   "pygments_lexer": "shell",
   "version": "5.7.1"
  }
 },
 "nbformat": 4,
 "nbformat_minor": 5
}
