{
 "cells": [
  {
   "cell_type": "code",
   "execution_count": 2,
   "id": "5b7b4e69-0302-4ec3-970c-1b663d59d16e",
   "metadata": {},
   "outputs": [
    {
     "name": "stdout",
     "output_type": "stream",
     "text": [
      "zsh: command not found: msfconsole\n"
     ]
    }
   ],
   "source": [
    "msfconsole"
   ]
  },
  {
   "cell_type": "code",
   "execution_count": null,
   "id": "93c653d1-6509-49e8-ab03-b393ac1e8cfe",
   "metadata": {},
   "outputs": [],
   "source": []
  }
 ],
 "metadata": {
  "kernelspec": {
   "display_name": "Z shell",
   "language": "zsh",
   "name": "zsh"
  },
  "language_info": {
   "codemirror_mode": "shell",
   "file_extension": ".zsh",
   "mimetype": "text/x-zsh",
   "name": "zsh",
   "pygments_lexer": "shell",
   "version": "5.7.1"
  }
 },
 "nbformat": 4,
 "nbformat_minor": 5
}
