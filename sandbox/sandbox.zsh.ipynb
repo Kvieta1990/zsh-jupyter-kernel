{
 "cells": [
  {
   "cell_type": "code",
   "execution_count": 1,
   "id": "598ef7eb-8877-4586-a7f1-add8de665038",
   "metadata": {},
   "outputs": [
    {
     "name": "stdout",
     "output_type": "stream",
     "text": [
      "1\n",
      "2\n",
      "3\n"
     ]
    }
   ],
   "source": [
    "print 1\n",
    "echo 2\n",
    "<<< 3"
   ]
  },
  {
   "cell_type": "code",
   "execution_count": 2,
   "id": "eb3060f6-21aa-4947-94de-233fef1481ea",
   "metadata": {},
   "outputs": [
    {
     "name": "stdout",
     "output_type": "stream",
     "text": [
      "example.ipynb  sandbox.py.ipynb  sandbox.zsh.ipynb  Untitled.ipynb\n"
     ]
    }
   ],
   "source": [
    "ls"
   ]
  },
  {
   "cell_type": "code",
   "execution_count": null,
   "id": "ba302c08-17ba-4863-a97d-3bc8236a4f83",
   "metadata": {},
   "outputs": [],
   "source": []
  },
  {
   "cell_type": "code",
   "execution_count": 3,
   "id": "2d379c32-6785-4c4e-854b-98b94bc37426",
   "metadata": {},
   "outputs": [
    {
     "name": "stdout",
     "output_type": "stream",
     "text": [
      "/home/shmuser/.local/share/virtualenvs/zsh-jupyter-kernel-Wrysulj6/bin:/home/shmuser/miniconda3/bin:/usr/local/opt/m4/bin:/usr/local/opt/gnu-getopt/bin:/usr/local/opt/gnu-sed/libexec/gnubin:/usr/local/opt/coreutils/libexec/gnubin:/usr/local/opt/findutils/libexec/gnubin:/usr/local/opt/gnu-indent/libexec/gnubin:/usr/local/opt/grep/libexec/gnubin:/usr/local/opt/gnu-tar/libexec/gnubin:/usr/local/Cellar/git/2.26.0/bin:/usr/local/Cellar/expect/5.45.4/bin:/home/shmuser/.local/bin:/usr/local/sbin:/usr/local/bin:/usr/bin:/usr/bin/site_perl:/usr/bin/vendor_perl:/usr/bin/core_perl:/home/shmuser/.gem/bin:/home/shmuser/bin/:/usr/local/opt/krb5/bin:/usr/local/opt/krb5/sbin\n"
     ]
    }
   ],
   "source": [
    "echo $PATH"
   ]
  },
  {
   "cell_type": "code",
   "execution_count": 4,
   "id": "29cf0539-cae1-4131-8e0b-6b070e137af2",
   "metadata": {},
   "outputs": [
    {
     "name": "stdout",
     "output_type": "stream",
     "text": [
      "\n"
     ]
    }
   ],
   "source": [
    "echo $DAN_OAK_TEST"
   ]
  },
  {
   "cell_type": "code",
   "execution_count": null,
   "id": "ff0432da-1aac-4277-82cf-8ba1267976cb",
   "metadata": {},
   "outputs": [],
   "source": []
  }
 ],
 "metadata": {
  "kernelspec": {
   "display_name": "Z shell",
   "language": "zsh",
   "name": "zsh"
  },
  "language_info": {
   "codemirror_mode": "shell",
   "file_extension": ".zsh",
   "mimetype": "text/x-zsh",
   "name": "zsh",
   "pygments_lexer": "shell",
   "version": "5.7.1"
  }
 },
 "nbformat": 4,
 "nbformat_minor": 5
}
